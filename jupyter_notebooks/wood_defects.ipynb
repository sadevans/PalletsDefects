{
 "cells": [
  {
   "cell_type": "code",
   "execution_count": null,
   "metadata": {},
   "outputs": [],
   "source": [
    "from ultralytics import YOLO\n",
    "import os\n",
    "import shutil\n",
    "import random"
   ]
  },
  {
   "cell_type": "code",
   "execution_count": null,
   "metadata": {
    "_cell_guid": "b1076dfc-b9ad-4769-8c92-a6c4dae69d19",
    "_uuid": "8f2839f25d086af736a60e9eeb907d3b93b6e0e5"
   },
   "outputs": [],
   "source": [
    "!mkdir dataset"
   ]
  },
  {
   "cell_type": "code",
   "execution_count": null,
   "metadata": {},
   "outputs": [],
   "source": [
    "!mkdir dataset/labels\n",
    "!mkdir dataset/images"
   ]
  },
  {
   "cell_type": "code",
   "execution_count": null,
   "metadata": {},
   "outputs": [],
   "source": [
    "!cp '/kaggle/input/large-scale-image-dataset-of-wood-surface-defects/Bounding Boxes - YOLO Format - 1/Bounding Boxes - YOLO Format - 1'/* ./dataset/labels"
   ]
  },
  {
   "cell_type": "code",
   "execution_count": null,
   "metadata": {},
   "outputs": [],
   "source": [
    "!cp '/kaggle/input/large-scale-image-dataset-of-wood-surface-defects/Images - 1/Images - 1'/* ./dataset/images"
   ]
  },
  {
   "cell_type": "code",
   "execution_count": null,
   "metadata": {},
   "outputs": [],
   "source": [
    "!cp /kaggle/input/dtyaml/data.yaml ./dataset/"
   ]
  },
  {
   "cell_type": "code",
   "execution_count": null,
   "metadata": {},
   "outputs": [],
   "source": [
    "# Пути к папкам\n",
    "dataset_path = \"/kaggle/working/dataset\"\n",
    "images_path = os.path.join(dataset_path, \"images\")\n",
    "labels_path = os.path.join(dataset_path, \"labels\")\n",
    "\n",
    "# Папки для train, val и test\n",
    "train_images_path = os.path.join(dataset_path, \"train\", \"images\")\n",
    "train_labels_path = os.path.join(dataset_path, \"train\", \"labels\")\n",
    "val_images_path = os.path.join(dataset_path, \"val\", \"images\")\n",
    "val_labels_path = os.path.join(dataset_path, \"val\", \"labels\")\n",
    "test_images_path = os.path.join(dataset_path, \"test\", \"images\")\n",
    "test_labels_path = os.path.join(dataset_path, \"test\", \"labels\")\n",
    "\n",
    "# Создаем папки, если их нет\n",
    "os.makedirs(train_images_path, exist_ok=True)\n",
    "os.makedirs(train_labels_path, exist_ok=True)\n",
    "os.makedirs(val_images_path, exist_ok=True)\n",
    "os.makedirs(val_labels_path, exist_ok=True)\n",
    "os.makedirs(test_images_path, exist_ok=True)\n",
    "os.makedirs(test_labels_path, exist_ok=True)\n",
    "\n",
    "# Список всех файлов изображений\n",
    "image_files = [f for f in os.listdir(images_path) if os.path.isfile(os.path.join(images_path, f))]\n",
    "random.shuffle(image_files)\n",
    "\n",
    "# Пропорции для train, val и test\n",
    "train_ratio = 0.7\n",
    "val_ratio = 0.2\n",
    "test_ratio = 0.1\n",
    "\n",
    "train_size = int(len(image_files) * train_ratio)\n",
    "val_size = int(len(image_files) * val_ratio)\n",
    "\n",
    "# Разделяем файлы на train, val и test\n",
    "train_files = image_files[:train_size]\n",
    "val_files = image_files[train_size:train_size + val_size]\n",
    "test_files = image_files[train_size + val_size:]\n",
    "\n",
    "# Функция для перемещения файлов\n",
    "def move_files(file_list, source_dir, target_image_dir, target_label_dir):\n",
    "    for file_name in file_list:\n",
    "        base_name = os.path.splitext(file_name)[0]\n",
    "        image_src = os.path.join(source_dir, file_name)\n",
    "        label_src = os.path.join(labels_path, base_name + \".txt\")\n",
    "        image_dest = os.path.join(target_image_dir, file_name)\n",
    "        label_dest = os.path.join(target_label_dir, base_name + \".txt\")\n",
    "\n",
    "        print(f\"Copying {image_src} to {image_dest}\")\n",
    "        print(f\"Copying {label_src} to {label_dest}\")\n",
    "\n",
    "        if os.path.exists(image_src) and os.path.exists(label_src):\n",
    "            shutil.copy(image_src, image_dest)\n",
    "            shutil.copy(label_src, label_dest)\n",
    "\n",
    "# Перемещаем файлы в соответствующие папки\n",
    "move_files(train_files, images_path, train_images_path, train_labels_path)\n",
    "move_files(val_files, images_path, val_images_path, val_labels_path)\n",
    "move_files(test_files, images_path, test_images_path, test_labels_path)"
   ]
  },
  {
   "cell_type": "code",
   "execution_count": null,
   "metadata": {},
   "outputs": [],
   "source": [
    "model = YOLO('/kaggle/working/runs/detect/train/weights/best.pt')\n",
    "results = model.train(data='/kaggle/working/dataset/data.yaml',\n",
    "                      epochs=100,\n",
    "                      imgsz=1024,\n",
    "                      batch=4,\n",
    "                      workers=16)"
   ]
  },
  {
   "cell_type": "code",
   "execution_count": 4,
   "metadata": {
    "execution": {
     "iopub.execute_input": "2024-09-05T13:43:25.098359Z",
     "iopub.status.busy": "2024-09-05T13:43:25.097927Z",
     "iopub.status.idle": "2024-09-05T13:44:08.550222Z",
     "shell.execute_reply": "2024-09-05T13:44:08.549122Z",
     "shell.execute_reply.started": "2024-09-05T13:43:25.098322Z"
    }
   },
   "outputs": [
    {
     "name": "stdout",
     "output_type": "stream",
     "text": [
      "Ultralytics YOLOv8.2.87 🚀 Python-3.10.14 torch-2.4.0 CUDA:0 (Tesla P100-PCIE-16GB, 16269MiB)\n",
      "YOLOv10x summary (fused): 503 layers, 31,599,488 parameters, 0 gradients, 169.9 GFLOPs\n",
      "Downloading https://ultralytics.com/assets/Arial.ttf to '/root/.config/Ultralytics/Arial.ttf'...\n"
     ]
    },
    {
     "name": "stderr",
     "output_type": "stream",
     "text": [
      "100%|██████████| 755k/755k [00:00<00:00, 33.0MB/s]\n",
      "\u001b[34m\u001b[1mval: \u001b[0mScanning /kaggle/working/dataset/val/labels.cache... 800 images, 93 backgrounds, 0 corrupt: 100%|██████████| 800/800 [00:00<?, ?it/s]\n",
      "                 Class     Images  Instances      Box(P          R      mAP50  mAP50-95): 100%|██████████| 50/50 [00:27<00:00,  1.79it/s]\n"
     ]
    },
    {
     "name": "stdout",
     "output_type": "stream",
     "text": [
      "                   all        800       1791      0.683      0.624      0.656      0.392\n",
      "             Quartzity         28         33      0.422      0.303      0.309      0.239\n",
      "             Live_Knot        431        768      0.779      0.786      0.831      0.381\n",
      "                Marrow         42         45      0.836      0.756      0.803      0.562\n",
      "                 resin        100        128      0.759      0.665      0.741      0.408\n",
      "             Dead_Knot        368        568      0.757      0.815      0.842      0.454\n",
      "       knot_with_crack         79        113      0.677      0.574      0.592      0.403\n",
      "          Knot_missing         18         19      0.538       0.49      0.499      0.324\n",
      "                 Crack         76        117      0.697      0.607      0.633      0.366\n",
      "Speed: 0.5ms preprocess, 29.6ms inference, 0.0ms loss, 0.2ms postprocess per image\n",
      "Results saved to \u001b[1mruns/detect/val\u001b[0m\n"
     ]
    }
   ],
   "source": [
    "from ultralytics import YOLO\n",
    "model = YOLO('/kaggle/working/runs/detect/train/weights/best.pt')\n",
    "results = model.val(data='/kaggle/working/dataset/data.yaml',\n",
    "                    imgsz=1024,\n",
    "                    workers=16)"
   ]
  }
 ],
 "metadata": {
  "kaggle": {
   "accelerator": "gpu",
   "dataSources": [
    {
     "datasetId": 1933406,
     "sourceId": 3183024,
     "sourceType": "datasetVersion"
    },
    {
     "datasetId": 5632465,
     "sourceId": 9302096,
     "sourceType": "datasetVersion"
    }
   ],
   "dockerImageVersionId": 30761,
   "isGpuEnabled": true,
   "isInternetEnabled": true,
   "language": "python",
   "sourceType": "notebook"
  },
  "kernelspec": {
   "display_name": "Python 3 (ipykernel)",
   "language": "python",
   "name": "python3"
  },
  "language_info": {
   "codemirror_mode": {
    "name": "ipython",
    "version": 3
   },
   "file_extension": ".py",
   "mimetype": "text/x-python",
   "name": "python",
   "nbconvert_exporter": "python",
   "pygments_lexer": "ipython3",
   "version": "3.10.13"
  }
 },
 "nbformat": 4,
 "nbformat_minor": 4
}
